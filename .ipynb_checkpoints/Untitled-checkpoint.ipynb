{
 "cells": [
  {
   "cell_type": "code",
   "execution_count": 81,
   "id": "0271a4a9",
   "metadata": {},
   "outputs": [],
   "source": [
    "import pandas as pd\n",
    "import datetime \n",
    "from datetime import timedelta\n",
    "empty_dict = {} \n",
    "another_dict = {} \n",
    "result = {}  \n",
    "my_List = []"
   ]
  },
  {
   "cell_type": "code",
   "execution_count": 6,
   "id": "2b6a3117",
   "metadata": {},
   "outputs": [
    {
     "data": {
      "text/html": [
       "<div>\n",
       "<style scoped>\n",
       "    .dataframe tbody tr th:only-of-type {\n",
       "        vertical-align: middle;\n",
       "    }\n",
       "\n",
       "    .dataframe tbody tr th {\n",
       "        vertical-align: top;\n",
       "    }\n",
       "\n",
       "    .dataframe thead th {\n",
       "        text-align: right;\n",
       "    }\n",
       "</style>\n",
       "<table border=\"1\" class=\"dataframe\">\n",
       "  <thead>\n",
       "    <tr style=\"text-align: right;\">\n",
       "      <th></th>\n",
       "      <th>delivery_start</th>\n",
       "      <th>timestamp</th>\n",
       "      <th>wind forecast in MW</th>\n",
       "    </tr>\n",
       "  </thead>\n",
       "  <tbody>\n",
       "    <tr>\n",
       "      <th>0</th>\n",
       "      <td>2018-12-20 00:00:00</td>\n",
       "      <td>2018-12-20 00:00:00</td>\n",
       "      <td>12815</td>\n",
       "    </tr>\n",
       "    <tr>\n",
       "      <th>1</th>\n",
       "      <td>2018-12-20 00:00:00</td>\n",
       "      <td>2018-12-19 23:45:00</td>\n",
       "      <td>12629</td>\n",
       "    </tr>\n",
       "    <tr>\n",
       "      <th>2</th>\n",
       "      <td>2018-12-20 00:00:00</td>\n",
       "      <td>2018-12-19 23:30:00</td>\n",
       "      <td>12546</td>\n",
       "    </tr>\n",
       "    <tr>\n",
       "      <th>3</th>\n",
       "      <td>2018-12-20 00:00:00</td>\n",
       "      <td>2018-12-19 23:15:00</td>\n",
       "      <td>12654</td>\n",
       "    </tr>\n",
       "    <tr>\n",
       "      <th>4</th>\n",
       "      <td>2018-12-20 00:00:00</td>\n",
       "      <td>2018-12-19 23:00:00</td>\n",
       "      <td>12741</td>\n",
       "    </tr>\n",
       "  </tbody>\n",
       "</table>\n",
       "</div>"
      ],
      "text/plain": [
       "        delivery_start            timestamp  wind forecast in MW\n",
       "0  2018-12-20 00:00:00  2018-12-20 00:00:00                12815\n",
       "1  2018-12-20 00:00:00  2018-12-19 23:45:00                12629\n",
       "2  2018-12-20 00:00:00  2018-12-19 23:30:00                12546\n",
       "3  2018-12-20 00:00:00  2018-12-19 23:15:00                12654\n",
       "4  2018-12-20 00:00:00  2018-12-19 23:00:00                12741"
      ]
     },
     "execution_count": 6,
     "metadata": {},
     "output_type": "execute_result"
    }
   ],
   "source": [
    "df = pd.read_csv('./test_data.csv') \n",
    "df.head()"
   ]
  },
  {
   "cell_type": "code",
   "execution_count": 7,
   "id": "042f8c48",
   "metadata": {},
   "outputs": [
    {
     "name": "stdout",
     "output_type": "stream",
     "text": [
      "<class 'pandas.core.frame.DataFrame'>\n",
      "RangeIndex: 368927 entries, 0 to 368926\n",
      "Data columns (total 3 columns):\n",
      " #   Column               Non-Null Count   Dtype \n",
      "---  ------               --------------   ----- \n",
      " 0   delivery_start       368927 non-null  object\n",
      " 1   timestamp            368927 non-null  object\n",
      " 2   wind forecast in MW  368927 non-null  int64 \n",
      "dtypes: int64(1), object(2)\n",
      "memory usage: 8.4+ MB\n"
     ]
    }
   ],
   "source": [
    "df.info()"
   ]
  },
  {
   "cell_type": "code",
   "execution_count": 8,
   "id": "43309fc0",
   "metadata": {},
   "outputs": [],
   "source": [
    "df['timestamp'] = pd.to_datetime(df['timestamp'])"
   ]
  },
  {
   "cell_type": "code",
   "execution_count": 9,
   "id": "1bfe8236",
   "metadata": {},
   "outputs": [
    {
     "data": {
      "text/plain": [
       "0         00:00:00\n",
       "1         23:45:00\n",
       "2         23:30:00\n",
       "3         23:15:00\n",
       "4         23:00:00\n",
       "            ...   \n",
       "368922    01:15:00\n",
       "368923    01:00:00\n",
       "368924    00:45:00\n",
       "368925    00:30:00\n",
       "368926    00:15:00\n",
       "Name: timestamp, Length: 368927, dtype: object"
      ]
     },
     "execution_count": 9,
     "metadata": {},
     "output_type": "execute_result"
    }
   ],
   "source": [
    "df['timestamp'].dt.time"
   ]
  },
  {
   "cell_type": "code",
   "execution_count": 10,
   "id": "6ab46122",
   "metadata": {},
   "outputs": [
    {
     "data": {
      "text/html": [
       "<div>\n",
       "<style scoped>\n",
       "    .dataframe tbody tr th:only-of-type {\n",
       "        vertical-align: middle;\n",
       "    }\n",
       "\n",
       "    .dataframe tbody tr th {\n",
       "        vertical-align: top;\n",
       "    }\n",
       "\n",
       "    .dataframe thead th {\n",
       "        text-align: right;\n",
       "    }\n",
       "</style>\n",
       "<table border=\"1\" class=\"dataframe\">\n",
       "  <thead>\n",
       "    <tr style=\"text-align: right;\">\n",
       "      <th></th>\n",
       "      <th>delivery_start</th>\n",
       "      <th>timestamp</th>\n",
       "      <th>wind forecast in MW</th>\n",
       "    </tr>\n",
       "  </thead>\n",
       "  <tbody>\n",
       "    <tr>\n",
       "      <th>0</th>\n",
       "      <td>2018-12-20 00:00:00</td>\n",
       "      <td>2018-12-20 00:00:00</td>\n",
       "      <td>12815</td>\n",
       "    </tr>\n",
       "    <tr>\n",
       "      <th>1</th>\n",
       "      <td>2018-12-20 00:00:00</td>\n",
       "      <td>2018-12-19 23:45:00</td>\n",
       "      <td>12629</td>\n",
       "    </tr>\n",
       "    <tr>\n",
       "      <th>2</th>\n",
       "      <td>2018-12-20 00:00:00</td>\n",
       "      <td>2018-12-19 23:30:00</td>\n",
       "      <td>12546</td>\n",
       "    </tr>\n",
       "    <tr>\n",
       "      <th>3</th>\n",
       "      <td>2018-12-20 00:00:00</td>\n",
       "      <td>2018-12-19 23:15:00</td>\n",
       "      <td>12654</td>\n",
       "    </tr>\n",
       "    <tr>\n",
       "      <th>4</th>\n",
       "      <td>2018-12-20 00:00:00</td>\n",
       "      <td>2018-12-19 23:00:00</td>\n",
       "      <td>12741</td>\n",
       "    </tr>\n",
       "  </tbody>\n",
       "</table>\n",
       "</div>"
      ],
      "text/plain": [
       "        delivery_start           timestamp  wind forecast in MW\n",
       "0  2018-12-20 00:00:00 2018-12-20 00:00:00                12815\n",
       "1  2018-12-20 00:00:00 2018-12-19 23:45:00                12629\n",
       "2  2018-12-20 00:00:00 2018-12-19 23:30:00                12546\n",
       "3  2018-12-20 00:00:00 2018-12-19 23:15:00                12654\n",
       "4  2018-12-20 00:00:00 2018-12-19 23:00:00                12741"
      ]
     },
     "execution_count": 10,
     "metadata": {},
     "output_type": "execute_result"
    }
   ],
   "source": [
    "df.head()"
   ]
  },
  {
   "cell_type": "code",
   "execution_count": 11,
   "id": "f0b7c373",
   "metadata": {},
   "outputs": [
    {
     "data": {
      "text/plain": [
       "0         2018-12-20\n",
       "1         2018-12-19\n",
       "2         2018-12-19\n",
       "3         2018-12-19\n",
       "4         2018-12-19\n",
       "             ...    \n",
       "368922    2018-12-17\n",
       "368923    2018-12-17\n",
       "368924    2018-12-17\n",
       "368925    2018-12-17\n",
       "368926    2018-12-17\n",
       "Name: timestamp, Length: 368927, dtype: object"
      ]
     },
     "execution_count": 11,
     "metadata": {},
     "output_type": "execute_result"
    }
   ],
   "source": [
    "df['timestamp'].dt.date"
   ]
  },
  {
   "cell_type": "code",
   "execution_count": 12,
   "id": "d83d76e7",
   "metadata": {},
   "outputs": [
    {
     "ename": "NameError",
     "evalue": "name 'timestamp' is not defined",
     "output_type": "error",
     "traceback": [
      "\u001b[0;31m---------------------------------------------------------------------------\u001b[0m",
      "\u001b[0;31mNameError\u001b[0m                                 Traceback (most recent call last)",
      "Input \u001b[0;32mIn [12]\u001b[0m, in \u001b[0;36m<module>\u001b[0;34m\u001b[0m\n\u001b[0;32m----> 1\u001b[0m df[\u001b[43mtimestamp\u001b[49m \u001b[38;5;241m>\u001b[39m \u001b[38;5;241m11\u001b[39m:\u001b[38;5;241m00\u001b[39m:\u001b[38;5;241m00\u001b[39m]\n",
      "\u001b[0;31mNameError\u001b[0m: name 'timestamp' is not defined"
     ]
    }
   ],
   "source": [
    "df[timestamp > 11:00:00]"
   ]
  },
  {
   "cell_type": "code",
   "execution_count": 13,
   "id": "0ea9390d",
   "metadata": {},
   "outputs": [
    {
     "ename": "TypeError",
     "evalue": "'>' not supported between instances of 'str' and 'int'",
     "output_type": "error",
     "traceback": [
      "\u001b[0;31m---------------------------------------------------------------------------\u001b[0m",
      "\u001b[0;31mTypeError\u001b[0m                                 Traceback (most recent call last)",
      "Input \u001b[0;32mIn [13]\u001b[0m, in \u001b[0;36m<module>\u001b[0;34m\u001b[0m\n\u001b[0;32m----> 1\u001b[0m df[\u001b[38;5;124;43m'\u001b[39;49m\u001b[38;5;124;43mtimestamp\u001b[39;49m\u001b[38;5;124;43m'\u001b[39;49m\u001b[43m \u001b[49m\u001b[38;5;241;43m>\u001b[39;49m\u001b[43m \u001b[49m\u001b[38;5;241;43m11\u001b[39;49m:\u001b[38;5;241m00\u001b[39m:\u001b[38;5;241m00\u001b[39m]\n",
      "\u001b[0;31mTypeError\u001b[0m: '>' not supported between instances of 'str' and 'int'"
     ]
    }
   ],
   "source": [
    "df['timestamp' > 11:00:00]"
   ]
  },
  {
   "cell_type": "code",
   "execution_count": 14,
   "id": "aea80405",
   "metadata": {},
   "outputs": [
    {
     "ename": "AttributeError",
     "evalue": "'str' object has no attribute 'int'",
     "output_type": "error",
     "traceback": [
      "\u001b[0;31m---------------------------------------------------------------------------\u001b[0m",
      "\u001b[0;31mAttributeError\u001b[0m                            Traceback (most recent call last)",
      "Input \u001b[0;32mIn [14]\u001b[0m, in \u001b[0;36m<module>\u001b[0;34m\u001b[0m\n\u001b[0;32m----> 1\u001b[0m df[\u001b[38;5;124;43m'\u001b[39;49m\u001b[38;5;124;43mtimestamp\u001b[39;49m\u001b[38;5;124;43m'\u001b[39;49m\u001b[38;5;241;43m.\u001b[39;49m\u001b[43mint\u001b[49m() \u001b[38;5;241m>\u001b[39m \u001b[38;5;241m11\u001b[39m:\u001b[38;5;241m00\u001b[39m:\u001b[38;5;241m00\u001b[39m]\n",
      "\u001b[0;31mAttributeError\u001b[0m: 'str' object has no attribute 'int'"
     ]
    }
   ],
   "source": [
    "df['timestamp'.int() > 11:00:00]"
   ]
  },
  {
   "cell_type": "code",
   "execution_count": 15,
   "id": "dc845b3d",
   "metadata": {},
   "outputs": [],
   "source": [
    "def su(x,y):\n",
    "    return x-y"
   ]
  },
  {
   "cell_type": "code",
   "execution_count": 39,
   "id": "ed6de5a8",
   "metadata": {},
   "outputs": [
    {
     "name": "stdout",
     "output_type": "stream",
     "text": [
      "11:30:00\n",
      "00:00:00\n"
     ]
    }
   ],
   "source": [
    "ex = datetime.datetime.strptime('11:30AM', '%I:%M%p') \n",
    "print(ex.time()) \n",
    "new_day = datetime.datetime.strptime('12:00AM', '%I:%M%p')  \n",
    "print(new_day.time())  \n",
    "new_day2 = datetime.datetime.strptime('12:15AM', '%I:%M%p')"
   ]
  },
  {
   "cell_type": "code",
   "execution_count": 17,
   "id": "61c0b0ce",
   "metadata": {},
   "outputs": [
    {
     "data": {
      "text/plain": [
       "0         2018-12-20\n",
       "1         2018-12-19\n",
       "2         2018-12-19\n",
       "3         2018-12-19\n",
       "4         2018-12-19\n",
       "             ...    \n",
       "368922    2018-12-17\n",
       "368923    2018-12-17\n",
       "368924    2018-12-17\n",
       "368925    2018-12-17\n",
       "368926    2018-12-17\n",
       "Name: timestamp, Length: 368927, dtype: object"
      ]
     },
     "execution_count": 17,
     "metadata": {},
     "output_type": "execute_result"
    }
   ],
   "source": [
    "df['timestamp'].dt.date "
   ]
  },
  {
   "cell_type": "code",
   "execution_count": 18,
   "id": "beb075b7",
   "metadata": {},
   "outputs": [
    {
     "data": {
      "text/plain": [
       "0         2018-12-20\n",
       "1         2018-12-20\n",
       "2         2018-12-20\n",
       "3         2018-12-20\n",
       "4         2018-12-20\n",
       "             ...    \n",
       "368922    2018-12-25\n",
       "368923    2018-12-25\n",
       "368924    2018-12-25\n",
       "368925    2018-12-25\n",
       "368926    2018-12-25\n",
       "Name: delivery_start, Length: 368927, dtype: object"
      ]
     },
     "execution_count": 18,
     "metadata": {},
     "output_type": "execute_result"
    }
   ],
   "source": [
    "df['delivery_start'] = pd.to_datetime(df['delivery_start']) \n",
    "df['delivery_start'].dt.date"
   ]
  },
  {
   "cell_type": "code",
   "execution_count": 19,
   "id": "bddb5554",
   "metadata": {},
   "outputs": [
    {
     "name": "stdout",
     "output_type": "stream",
     "text": [
      "0        0 days\n",
      "1        1 days\n",
      "2        1 days\n",
      "3        1 days\n",
      "4        1 days\n",
      "          ...  \n",
      "368922   8 days\n",
      "368923   8 days\n",
      "368924   8 days\n",
      "368925   8 days\n",
      "368926   8 days\n",
      "Length: 368927, dtype: timedelta64[ns]\n"
     ]
    }
   ],
   "source": [
    "remove = ['delivery_start','timestamp','wind forecast in MW'] \n",
    "val = pd.DataFrame()\n",
    "val = su(df['delivery_start'].dt.date ,df['timestamp'].dt.date) \n",
    "print(val)"
   ]
  },
  {
   "cell_type": "code",
   "execution_count": 20,
   "id": "684b5eb2",
   "metadata": {},
   "outputs": [
    {
     "name": "stdout",
     "output_type": "stream",
     "text": [
      "CPU times: user 951 ms, sys: 15.4 ms, total: 967 ms\n",
      "Wall time: 965 ms\n"
     ]
    }
   ],
   "source": [
    "%%time\n",
    "condition1 = ((df['delivery_start'].dt.date - df['timestamp'].dt.date) == '1 days') & (df['timestamp'].dt.time >= ex.time())   \n",
    "condition2 = ((df['delivery_start'].dt.date - df['timestamp'].dt.date) == '0 days')"
   ]
  },
  {
   "cell_type": "code",
   "execution_count": 21,
   "id": "adcfb62c",
   "metadata": {},
   "outputs": [
    {
     "name": "stdout",
     "output_type": "stream",
     "text": [
      "CPU times: user 8.96 ms, sys: 6.23 ms, total: 15.2 ms\n",
      "Wall time: 12.6 ms\n"
     ]
    },
    {
     "data": {
      "text/html": [
       "<div>\n",
       "<style scoped>\n",
       "    .dataframe tbody tr th:only-of-type {\n",
       "        vertical-align: middle;\n",
       "    }\n",
       "\n",
       "    .dataframe tbody tr th {\n",
       "        vertical-align: top;\n",
       "    }\n",
       "\n",
       "    .dataframe thead th {\n",
       "        text-align: right;\n",
       "    }\n",
       "</style>\n",
       "<table border=\"1\" class=\"dataframe\">\n",
       "  <thead>\n",
       "    <tr style=\"text-align: right;\">\n",
       "      <th></th>\n",
       "      <th>delivery_start</th>\n",
       "      <th>timestamp</th>\n",
       "      <th>wind forecast in MW</th>\n",
       "    </tr>\n",
       "  </thead>\n",
       "  <tbody>\n",
       "    <tr>\n",
       "      <th>0</th>\n",
       "      <td>2018-12-20 00:00:00</td>\n",
       "      <td>2018-12-20 00:00:00</td>\n",
       "      <td>12815</td>\n",
       "    </tr>\n",
       "    <tr>\n",
       "      <th>1</th>\n",
       "      <td>2018-12-20 00:00:00</td>\n",
       "      <td>2018-12-19 23:45:00</td>\n",
       "      <td>12629</td>\n",
       "    </tr>\n",
       "    <tr>\n",
       "      <th>2</th>\n",
       "      <td>2018-12-20 00:00:00</td>\n",
       "      <td>2018-12-19 23:30:00</td>\n",
       "      <td>12546</td>\n",
       "    </tr>\n",
       "    <tr>\n",
       "      <th>3</th>\n",
       "      <td>2018-12-20 00:00:00</td>\n",
       "      <td>2018-12-19 23:15:00</td>\n",
       "      <td>12654</td>\n",
       "    </tr>\n",
       "    <tr>\n",
       "      <th>4</th>\n",
       "      <td>2018-12-20 00:00:00</td>\n",
       "      <td>2018-12-19 23:00:00</td>\n",
       "      <td>12741</td>\n",
       "    </tr>\n",
       "    <tr>\n",
       "      <th>...</th>\n",
       "      <td>...</td>\n",
       "      <td>...</td>\n",
       "      <td>...</td>\n",
       "    </tr>\n",
       "    <tr>\n",
       "      <th>2343</th>\n",
       "      <td>2018-12-20 00:45:00</td>\n",
       "      <td>2018-12-19 14:00:00</td>\n",
       "      <td>12804</td>\n",
       "    </tr>\n",
       "    <tr>\n",
       "      <th>2344</th>\n",
       "      <td>2018-12-20 00:45:00</td>\n",
       "      <td>2018-12-19 13:45:00</td>\n",
       "      <td>12807</td>\n",
       "    </tr>\n",
       "    <tr>\n",
       "      <th>2345</th>\n",
       "      <td>2018-12-20 00:45:00</td>\n",
       "      <td>2018-12-19 13:30:00</td>\n",
       "      <td>12872</td>\n",
       "    </tr>\n",
       "    <tr>\n",
       "      <th>2346</th>\n",
       "      <td>2018-12-20 00:45:00</td>\n",
       "      <td>2018-12-19 13:15:00</td>\n",
       "      <td>12815</td>\n",
       "    </tr>\n",
       "    <tr>\n",
       "      <th>2347</th>\n",
       "      <td>2018-12-20 00:45:00</td>\n",
       "      <td>2018-12-19 13:00:00</td>\n",
       "      <td>12881</td>\n",
       "    </tr>\n",
       "  </tbody>\n",
       "</table>\n",
       "<p>200 rows × 3 columns</p>\n",
       "</div>"
      ],
      "text/plain": [
       "          delivery_start           timestamp  wind forecast in MW\n",
       "0    2018-12-20 00:00:00 2018-12-20 00:00:00                12815\n",
       "1    2018-12-20 00:00:00 2018-12-19 23:45:00                12629\n",
       "2    2018-12-20 00:00:00 2018-12-19 23:30:00                12546\n",
       "3    2018-12-20 00:00:00 2018-12-19 23:15:00                12654\n",
       "4    2018-12-20 00:00:00 2018-12-19 23:00:00                12741\n",
       "...                  ...                 ...                  ...\n",
       "2343 2018-12-20 00:45:00 2018-12-19 14:00:00                12804\n",
       "2344 2018-12-20 00:45:00 2018-12-19 13:45:00                12807\n",
       "2345 2018-12-20 00:45:00 2018-12-19 13:30:00                12872\n",
       "2346 2018-12-20 00:45:00 2018-12-19 13:15:00                12815\n",
       "2347 2018-12-20 00:45:00 2018-12-19 13:00:00                12881\n",
       "\n",
       "[200 rows x 3 columns]"
      ]
     },
     "execution_count": 21,
     "metadata": {},
     "output_type": "execute_result"
    }
   ],
   "source": [
    "%%time\n",
    "df = df[condition1|condition2]  \n",
    "df.head(200)"
   ]
  },
  {
   "cell_type": "code",
   "execution_count": 22,
   "id": "ceb75653",
   "metadata": {},
   "outputs": [],
   "source": [
    "df.to_csv(\"./new.csv\")"
   ]
  },
  {
   "cell_type": "code",
   "execution_count": 59,
   "id": "89c3b05f",
   "metadata": {},
   "outputs": [],
   "source": [
    "def conv(x,y,z):  \n",
    "    if x.time() == ex.time():\n",
    "        empty_dict[str()] = z"
   ]
  },
  {
   "cell_type": "code",
   "execution_count": 60,
   "id": "354d32b4",
   "metadata": {},
   "outputs": [
    {
     "name": "stdout",
     "output_type": "stream",
     "text": [
      "CPU times: user 492 ms, sys: 5.26 ms, total: 497 ms\n",
      "Wall time: 496 ms\n"
     ]
    },
    {
     "data": {
      "text/plain": [
       "0         None\n",
       "1         None\n",
       "2         None\n",
       "3         None\n",
       "4         None\n",
       "          ... \n",
       "368206    None\n",
       "368207    None\n",
       "368208    None\n",
       "368209    None\n",
       "368210    None\n",
       "Length: 47235, dtype: object"
      ]
     },
     "execution_count": 60,
     "metadata": {},
     "output_type": "execute_result"
    }
   ],
   "source": [
    "%%time \n",
    "df.apply(lambda x: conv(x['timestamp'],x['delivery_start'],x['wind forecast in MW']), axis=1)"
   ]
  },
  {
   "cell_type": "code",
   "execution_count": 61,
   "id": "30599c68",
   "metadata": {},
   "outputs": [
    {
     "name": "stdout",
     "output_type": "stream",
     "text": [
      "{'2018-12-19': 24078, '2018-12-20': 24078, '2018-12-21': 32517, '2018-12-22': 20828, '2018-12-23': 7937, '2018-12-24': 17634, '2018-12-25': 18459, '00:00:00': 18459, '00:15:00': 12279, '00:30:00': 12467, '00:45:00': 12641, '01:00:00': 12818, '01:15:00': 12848, '01:30:00': 12875, '01:45:00': 12903, '02:00:00': 13154, '02:15:00': 13241, '02:30:00': 13325, '02:45:00': 13397, '03:00:00': 13462, '03:15:00': 13605, '03:30:00': 13752, '03:45:00': 13897, '04:00:00': 14034, '04:15:00': 14040, '04:30:00': 14049, '04:45:00': 14051, '05:00:00': 14058, '05:15:00': 13963, '05:30:00': 13866, '05:45:00': 13745, '06:00:00': 13765, '06:15:00': 13596, '06:30:00': 13425, '06:45:00': 13260, '07:00:00': 13100, '07:15:00': 12863, '07:30:00': 12619, '07:45:00': 12364, '08:00:00': 12104, '08:15:00': 11823, '08:30:00': 11545, '08:45:00': 11288, '09:00:00': 11028, '09:15:00': 10828, '09:30:00': 10616, '09:45:00': 10400, '10:00:00': 10182, '10:15:00': 10173, '10:30:00': 10166, '10:45:00': 10168, '11:00:00': 10173, '11:15:00': 10242, '11:30:00': 10313, '11:45:00': 10384, '12:00:00': 10451, '12:15:00': 10532, '12:30:00': 10611, '12:45:00': 10700, '13:00:00': 10788, '13:15:00': 10803, '13:30:00': 10822, '13:45:00': 10839, '14:00:00': 10851, '14:15:00': 10846, '14:30:00': 10839, '14:45:00': 10827, '15:00:00': 10816, '15:15:00': 10893, '15:30:00': 10958, '15:45:00': 11024, '16:00:00': 11087, '16:15:00': 11291, '16:30:00': 11507, '16:45:00': 11739, '17:00:00': 11932, '17:15:00': 12175, '17:30:00': 12420, '17:45:00': 12674, '18:00:00': 12931, '18:15:00': 13173, '18:30:00': 13422, '18:45:00': 13677, '19:00:00': 13929, '19:15:00': 14145, '19:30:00': 14359, '19:45:00': 14548, '20:00:00': 14740, '20:15:00': 14971, '20:30:00': 15199, '20:45:00': 15423, '21:00:00': 15644, '21:15:00': 15885, '21:30:00': 16124, '21:45:00': 16369, '22:00:00': 16424, '22:15:00': 16615, '22:30:00': 16798, '22:45:00': 16967, '23:00:00': 17138, '23:15:00': 17300, '23:30:00': 17466, '23:45:00': 17634}\n"
     ]
    }
   ],
   "source": [
    "print(empty_dict)\n"
   ]
  },
  {
   "cell_type": "code",
   "execution_count": 26,
   "id": "88868b55",
   "metadata": {},
   "outputs": [
    {
     "ename": "AttributeError",
     "evalue": "'Series' object has no attribute 'strftime'",
     "output_type": "error",
     "traceback": [
      "\u001b[0;31m---------------------------------------------------------------------------\u001b[0m",
      "\u001b[0;31mAttributeError\u001b[0m                            Traceback (most recent call last)",
      "Input \u001b[0;32mIn [26]\u001b[0m, in \u001b[0;36m<module>\u001b[0;34m\u001b[0m\n\u001b[1;32m      1\u001b[0m subtracted_date \u001b[38;5;241m=\u001b[39m df[\u001b[38;5;124m'\u001b[39m\u001b[38;5;124mdelivery_start\u001b[39m\u001b[38;5;124m'\u001b[39m]\u001b[38;5;241m.\u001b[39mdt\u001b[38;5;241m.\u001b[39mdate\u001b[38;5;241m-\u001b[39m timedelta(\u001b[38;5;241m1\u001b[39m)\n\u001b[0;32m----> 2\u001b[0m subtracted_date \u001b[38;5;241m=\u001b[39m \u001b[43msubtracted_date\u001b[49m\u001b[38;5;241;43m.\u001b[39;49m\u001b[43mstrftime\u001b[49m(\u001b[38;5;124m\"\u001b[39m\u001b[38;5;124m%\u001b[39m\u001b[38;5;124mY-\u001b[39m\u001b[38;5;124m%\u001b[39m\u001b[38;5;124mm-\u001b[39m\u001b[38;5;132;01m%d\u001b[39;00m\u001b[38;5;124m\"\u001b[39m)\n\u001b[1;32m      3\u001b[0m \u001b[38;5;28mprint\u001b[39m(subtracted_date)\n",
      "File \u001b[0;32m~/Library/Python/3.8/lib/python/site-packages/pandas/core/generic.py:5487\u001b[0m, in \u001b[0;36mNDFrame.__getattr__\u001b[0;34m(self, name)\u001b[0m\n\u001b[1;32m   5480\u001b[0m \u001b[38;5;28;01mif\u001b[39;00m (\n\u001b[1;32m   5481\u001b[0m     name \u001b[38;5;129;01mnot\u001b[39;00m \u001b[38;5;129;01min\u001b[39;00m \u001b[38;5;28mself\u001b[39m\u001b[38;5;241m.\u001b[39m_internal_names_set\n\u001b[1;32m   5482\u001b[0m     \u001b[38;5;129;01mand\u001b[39;00m name \u001b[38;5;129;01mnot\u001b[39;00m \u001b[38;5;129;01min\u001b[39;00m \u001b[38;5;28mself\u001b[39m\u001b[38;5;241m.\u001b[39m_metadata\n\u001b[1;32m   5483\u001b[0m     \u001b[38;5;129;01mand\u001b[39;00m name \u001b[38;5;129;01mnot\u001b[39;00m \u001b[38;5;129;01min\u001b[39;00m \u001b[38;5;28mself\u001b[39m\u001b[38;5;241m.\u001b[39m_accessors\n\u001b[1;32m   5484\u001b[0m     \u001b[38;5;129;01mand\u001b[39;00m \u001b[38;5;28mself\u001b[39m\u001b[38;5;241m.\u001b[39m_info_axis\u001b[38;5;241m.\u001b[39m_can_hold_identifiers_and_holds_name(name)\n\u001b[1;32m   5485\u001b[0m ):\n\u001b[1;32m   5486\u001b[0m     \u001b[38;5;28;01mreturn\u001b[39;00m \u001b[38;5;28mself\u001b[39m[name]\n\u001b[0;32m-> 5487\u001b[0m \u001b[38;5;28;01mreturn\u001b[39;00m \u001b[38;5;28;43mobject\u001b[39;49m\u001b[38;5;241;43m.\u001b[39;49m\u001b[38;5;21;43m__getattribute__\u001b[39;49m\u001b[43m(\u001b[49m\u001b[38;5;28;43mself\u001b[39;49m\u001b[43m,\u001b[49m\u001b[43m \u001b[49m\u001b[43mname\u001b[49m\u001b[43m)\u001b[49m\n",
      "\u001b[0;31mAttributeError\u001b[0m: 'Series' object has no attribute 'strftime'"
     ]
    }
   ],
   "source": [
    "subtracted_date = df['delivery_start'].dt.date- timedelta(1)\n",
    "subtracted_date = subtracted_date.strftime(\"%Y-%m-%d\")\n",
    "print(subtracted_date)"
   ]
  },
  {
   "cell_type": "code",
   "execution_count": 27,
   "id": "d1789730",
   "metadata": {},
   "outputs": [],
   "source": [
    "def cal(x,y,z):  \n",
    "            sub_date = x - timedelta(1)  \n",
    "            final_val = z - empty_dict[str(sub_date.date())] \n",
    "            return int(final_val)"
   ]
  },
  {
   "cell_type": "code",
   "execution_count": 408,
   "id": "8832dfb1",
   "metadata": {},
   "outputs": [
    {
     "ename": "KeyError",
     "evalue": "('delivery_start',)",
     "output_type": "error",
     "traceback": [
      "\u001b[0;31m---------------------------------------------------------------------------\u001b[0m",
      "\u001b[0;31mKeyError\u001b[0m                                  Traceback (most recent call last)",
      "File \u001b[0;32m~/Library/Python/3.8/lib/python/site-packages/pandas/core/indexes/base.py:3361\u001b[0m, in \u001b[0;36mIndex.get_loc\u001b[0;34m(self, key, method, tolerance)\u001b[0m\n\u001b[1;32m   3360\u001b[0m \u001b[38;5;28;01mtry\u001b[39;00m:\n\u001b[0;32m-> 3361\u001b[0m     \u001b[38;5;28;01mreturn\u001b[39;00m \u001b[38;5;28;43mself\u001b[39;49m\u001b[38;5;241;43m.\u001b[39;49m\u001b[43m_engine\u001b[49m\u001b[38;5;241;43m.\u001b[39;49m\u001b[43mget_loc\u001b[49m\u001b[43m(\u001b[49m\u001b[43mcasted_key\u001b[49m\u001b[43m)\u001b[49m\n\u001b[1;32m   3362\u001b[0m \u001b[38;5;28;01mexcept\u001b[39;00m \u001b[38;5;167;01mKeyError\u001b[39;00m \u001b[38;5;28;01mas\u001b[39;00m err:\n",
      "File \u001b[0;32m~/Library/Python/3.8/lib/python/site-packages/pandas/_libs/index.pyx:76\u001b[0m, in \u001b[0;36mpandas._libs.index.IndexEngine.get_loc\u001b[0;34m()\u001b[0m\n",
      "File \u001b[0;32m~/Library/Python/3.8/lib/python/site-packages/pandas/_libs/index.pyx:108\u001b[0m, in \u001b[0;36mpandas._libs.index.IndexEngine.get_loc\u001b[0;34m()\u001b[0m\n",
      "File \u001b[0;32mpandas/_libs/hashtable_class_helper.pxi:5198\u001b[0m, in \u001b[0;36mpandas._libs.hashtable.PyObjectHashTable.get_item\u001b[0;34m()\u001b[0m\n",
      "File \u001b[0;32mpandas/_libs/hashtable_class_helper.pxi:5206\u001b[0m, in \u001b[0;36mpandas._libs.hashtable.PyObjectHashTable.get_item\u001b[0;34m()\u001b[0m\n",
      "\u001b[0;31mKeyError\u001b[0m: ('delivery_start',)",
      "\nThe above exception was the direct cause of the following exception:\n",
      "\u001b[0;31mKeyError\u001b[0m                                  Traceback (most recent call last)",
      "Input \u001b[0;32mIn [408]\u001b[0m, in \u001b[0;36m<module>\u001b[0;34m\u001b[0m\n\u001b[0;32m----> 1\u001b[0m data \u001b[38;5;241m=\u001b[39m \u001b[43mdf\u001b[49m\u001b[43m[\u001b[49m\u001b[38;5;124;43m'\u001b[39;49m\u001b[38;5;124;43mdelivery_start\u001b[39;49m\u001b[38;5;124;43m'\u001b[39;49m\u001b[43m,\u001b[49m\u001b[43m]\u001b[49m\u001b[38;5;241m.\u001b[39mapply(cal,args\u001b[38;5;241m=\u001b[39m())\n",
      "File \u001b[0;32m~/Library/Python/3.8/lib/python/site-packages/pandas/core/frame.py:3458\u001b[0m, in \u001b[0;36mDataFrame.__getitem__\u001b[0;34m(self, key)\u001b[0m\n\u001b[1;32m   3456\u001b[0m \u001b[38;5;28;01mif\u001b[39;00m \u001b[38;5;28mself\u001b[39m\u001b[38;5;241m.\u001b[39mcolumns\u001b[38;5;241m.\u001b[39mnlevels \u001b[38;5;241m>\u001b[39m \u001b[38;5;241m1\u001b[39m:\n\u001b[1;32m   3457\u001b[0m     \u001b[38;5;28;01mreturn\u001b[39;00m \u001b[38;5;28mself\u001b[39m\u001b[38;5;241m.\u001b[39m_getitem_multilevel(key)\n\u001b[0;32m-> 3458\u001b[0m indexer \u001b[38;5;241m=\u001b[39m \u001b[38;5;28;43mself\u001b[39;49m\u001b[38;5;241;43m.\u001b[39;49m\u001b[43mcolumns\u001b[49m\u001b[38;5;241;43m.\u001b[39;49m\u001b[43mget_loc\u001b[49m\u001b[43m(\u001b[49m\u001b[43mkey\u001b[49m\u001b[43m)\u001b[49m\n\u001b[1;32m   3459\u001b[0m \u001b[38;5;28;01mif\u001b[39;00m is_integer(indexer):\n\u001b[1;32m   3460\u001b[0m     indexer \u001b[38;5;241m=\u001b[39m [indexer]\n",
      "File \u001b[0;32m~/Library/Python/3.8/lib/python/site-packages/pandas/core/indexes/base.py:3363\u001b[0m, in \u001b[0;36mIndex.get_loc\u001b[0;34m(self, key, method, tolerance)\u001b[0m\n\u001b[1;32m   3361\u001b[0m         \u001b[38;5;28;01mreturn\u001b[39;00m \u001b[38;5;28mself\u001b[39m\u001b[38;5;241m.\u001b[39m_engine\u001b[38;5;241m.\u001b[39mget_loc(casted_key)\n\u001b[1;32m   3362\u001b[0m     \u001b[38;5;28;01mexcept\u001b[39;00m \u001b[38;5;167;01mKeyError\u001b[39;00m \u001b[38;5;28;01mas\u001b[39;00m err:\n\u001b[0;32m-> 3363\u001b[0m         \u001b[38;5;28;01mraise\u001b[39;00m \u001b[38;5;167;01mKeyError\u001b[39;00m(key) \u001b[38;5;28;01mfrom\u001b[39;00m \u001b[38;5;21;01merr\u001b[39;00m\n\u001b[1;32m   3365\u001b[0m \u001b[38;5;28;01mif\u001b[39;00m is_scalar(key) \u001b[38;5;129;01mand\u001b[39;00m isna(key) \u001b[38;5;129;01mand\u001b[39;00m \u001b[38;5;129;01mnot\u001b[39;00m \u001b[38;5;28mself\u001b[39m\u001b[38;5;241m.\u001b[39mhasnans:\n\u001b[1;32m   3366\u001b[0m     \u001b[38;5;28;01mraise\u001b[39;00m \u001b[38;5;167;01mKeyError\u001b[39;00m(key)\n",
      "\u001b[0;31mKeyError\u001b[0m: ('delivery_start',)"
     ]
    }
   ],
   "source": [
    "data = df['delivery_start',].apply(cal,args=()) "
   ]
  },
  {
   "cell_type": "code",
   "execution_count": 28,
   "id": "baedf32b",
   "metadata": {},
   "outputs": [
    {
     "name": "stdout",
     "output_type": "stream",
     "text": [
      "CPU times: user 593 ms, sys: 6.76 ms, total: 600 ms\n",
      "Wall time: 599 ms\n"
     ]
    }
   ],
   "source": [
    "%%time\n",
    "df[\"ID Position\"] = df.apply(lambda x: cal(x['delivery_start'], x['timestamp'], x['wind forecast in MW']), axis=1)"
   ]
  },
  {
   "cell_type": "code",
   "execution_count": 46,
   "id": "4e31f12a",
   "metadata": {},
   "outputs": [
    {
     "name": "stdout",
     "output_type": "stream",
     "text": [
      "{'2018-12-19': 24078, '2018-12-20': 32517, '2018-12-21': 20828, '2018-12-22': 7937, '2018-12-23': 17634, '2018-12-24': 18459}\n"
     ]
    }
   ],
   "source": [
    "print(empty_dict)"
   ]
  },
  {
   "cell_type": "code",
   "execution_count": 52,
   "id": "ae64a3ab",
   "metadata": {},
   "outputs": [
    {
     "data": {
      "text/html": [
       "<div>\n",
       "<style scoped>\n",
       "    .dataframe tbody tr th:only-of-type {\n",
       "        vertical-align: middle;\n",
       "    }\n",
       "\n",
       "    .dataframe tbody tr th {\n",
       "        vertical-align: top;\n",
       "    }\n",
       "\n",
       "    .dataframe thead th {\n",
       "        text-align: right;\n",
       "    }\n",
       "</style>\n",
       "<table border=\"1\" class=\"dataframe\">\n",
       "  <thead>\n",
       "    <tr style=\"text-align: right;\">\n",
       "      <th></th>\n",
       "      <th>delivery_start</th>\n",
       "      <th>timestamp</th>\n",
       "      <th>wind forecast in MW</th>\n",
       "      <th>ID Position</th>\n",
       "    </tr>\n",
       "  </thead>\n",
       "  <tbody>\n",
       "    <tr>\n",
       "      <th>0</th>\n",
       "      <td>2018-12-20</td>\n",
       "      <td>2018-12-20 00:00:00</td>\n",
       "      <td>12815</td>\n",
       "      <td>-11263</td>\n",
       "    </tr>\n",
       "    <tr>\n",
       "      <th>1</th>\n",
       "      <td>2018-12-20</td>\n",
       "      <td>2018-12-19 23:45:00</td>\n",
       "      <td>12629</td>\n",
       "      <td>-11449</td>\n",
       "    </tr>\n",
       "    <tr>\n",
       "      <th>2</th>\n",
       "      <td>2018-12-20</td>\n",
       "      <td>2018-12-19 23:30:00</td>\n",
       "      <td>12546</td>\n",
       "      <td>-11532</td>\n",
       "    </tr>\n",
       "    <tr>\n",
       "      <th>3</th>\n",
       "      <td>2018-12-20</td>\n",
       "      <td>2018-12-19 23:15:00</td>\n",
       "      <td>12654</td>\n",
       "      <td>-11424</td>\n",
       "    </tr>\n",
       "    <tr>\n",
       "      <th>4</th>\n",
       "      <td>2018-12-20</td>\n",
       "      <td>2018-12-19 23:00:00</td>\n",
       "      <td>12741</td>\n",
       "      <td>-11337</td>\n",
       "    </tr>\n",
       "    <tr>\n",
       "      <th>5</th>\n",
       "      <td>2018-12-20</td>\n",
       "      <td>2018-12-19 22:45:00</td>\n",
       "      <td>12724</td>\n",
       "      <td>-11354</td>\n",
       "    </tr>\n",
       "    <tr>\n",
       "      <th>6</th>\n",
       "      <td>2018-12-20</td>\n",
       "      <td>2018-12-19 22:30:00</td>\n",
       "      <td>12704</td>\n",
       "      <td>-11374</td>\n",
       "    </tr>\n",
       "    <tr>\n",
       "      <th>7</th>\n",
       "      <td>2018-12-20</td>\n",
       "      <td>2018-12-19 22:15:00</td>\n",
       "      <td>12766</td>\n",
       "      <td>-11312</td>\n",
       "    </tr>\n",
       "    <tr>\n",
       "      <th>8</th>\n",
       "      <td>2018-12-20</td>\n",
       "      <td>2018-12-19 22:00:00</td>\n",
       "      <td>12807</td>\n",
       "      <td>-11271</td>\n",
       "    </tr>\n",
       "    <tr>\n",
       "      <th>9</th>\n",
       "      <td>2018-12-20</td>\n",
       "      <td>2018-12-19 21:45:00</td>\n",
       "      <td>12684</td>\n",
       "      <td>-11394</td>\n",
       "    </tr>\n",
       "    <tr>\n",
       "      <th>10</th>\n",
       "      <td>2018-12-20</td>\n",
       "      <td>2018-12-19 21:30:00</td>\n",
       "      <td>12643</td>\n",
       "      <td>-11435</td>\n",
       "    </tr>\n",
       "    <tr>\n",
       "      <th>11</th>\n",
       "      <td>2018-12-20</td>\n",
       "      <td>2018-12-19 21:15:00</td>\n",
       "      <td>12627</td>\n",
       "      <td>-11451</td>\n",
       "    </tr>\n",
       "    <tr>\n",
       "      <th>12</th>\n",
       "      <td>2018-12-20</td>\n",
       "      <td>2018-12-19 21:00:00</td>\n",
       "      <td>12622</td>\n",
       "      <td>-11456</td>\n",
       "    </tr>\n",
       "    <tr>\n",
       "      <th>13</th>\n",
       "      <td>2018-12-20</td>\n",
       "      <td>2018-12-19 20:30:00</td>\n",
       "      <td>12543</td>\n",
       "      <td>-11535</td>\n",
       "    </tr>\n",
       "    <tr>\n",
       "      <th>14</th>\n",
       "      <td>2018-12-20</td>\n",
       "      <td>2018-12-19 20:15:00</td>\n",
       "      <td>12613</td>\n",
       "      <td>-11465</td>\n",
       "    </tr>\n",
       "    <tr>\n",
       "      <th>15</th>\n",
       "      <td>2018-12-20</td>\n",
       "      <td>2018-12-19 20:00:00</td>\n",
       "      <td>12559</td>\n",
       "      <td>-11519</td>\n",
       "    </tr>\n",
       "    <tr>\n",
       "      <th>16</th>\n",
       "      <td>2018-12-20</td>\n",
       "      <td>2018-12-19 19:45:00</td>\n",
       "      <td>12474</td>\n",
       "      <td>-11604</td>\n",
       "    </tr>\n",
       "    <tr>\n",
       "      <th>17</th>\n",
       "      <td>2018-12-20</td>\n",
       "      <td>2018-12-19 19:30:00</td>\n",
       "      <td>12732</td>\n",
       "      <td>-11346</td>\n",
       "    </tr>\n",
       "    <tr>\n",
       "      <th>18</th>\n",
       "      <td>2018-12-20</td>\n",
       "      <td>2018-12-19 19:15:00</td>\n",
       "      <td>12679</td>\n",
       "      <td>-11399</td>\n",
       "    </tr>\n",
       "    <tr>\n",
       "      <th>19</th>\n",
       "      <td>2018-12-20</td>\n",
       "      <td>2018-12-19 19:00:00</td>\n",
       "      <td>12621</td>\n",
       "      <td>-11457</td>\n",
       "    </tr>\n",
       "    <tr>\n",
       "      <th>20</th>\n",
       "      <td>2018-12-20</td>\n",
       "      <td>2018-12-19 18:45:00</td>\n",
       "      <td>12739</td>\n",
       "      <td>-11339</td>\n",
       "    </tr>\n",
       "    <tr>\n",
       "      <th>21</th>\n",
       "      <td>2018-12-20</td>\n",
       "      <td>2018-12-19 18:30:00</td>\n",
       "      <td>12738</td>\n",
       "      <td>-11340</td>\n",
       "    </tr>\n",
       "    <tr>\n",
       "      <th>22</th>\n",
       "      <td>2018-12-20</td>\n",
       "      <td>2018-12-19 18:15:00</td>\n",
       "      <td>12743</td>\n",
       "      <td>-11335</td>\n",
       "    </tr>\n",
       "    <tr>\n",
       "      <th>23</th>\n",
       "      <td>2018-12-20</td>\n",
       "      <td>2018-12-19 18:00:00</td>\n",
       "      <td>12727</td>\n",
       "      <td>-11351</td>\n",
       "    </tr>\n",
       "    <tr>\n",
       "      <th>24</th>\n",
       "      <td>2018-12-20</td>\n",
       "      <td>2018-12-19 17:45:00</td>\n",
       "      <td>12737</td>\n",
       "      <td>-11341</td>\n",
       "    </tr>\n",
       "    <tr>\n",
       "      <th>25</th>\n",
       "      <td>2018-12-20</td>\n",
       "      <td>2018-12-19 17:30:00</td>\n",
       "      <td>12805</td>\n",
       "      <td>-11273</td>\n",
       "    </tr>\n",
       "    <tr>\n",
       "      <th>26</th>\n",
       "      <td>2018-12-20</td>\n",
       "      <td>2018-12-19 17:15:00</td>\n",
       "      <td>12897</td>\n",
       "      <td>-11181</td>\n",
       "    </tr>\n",
       "    <tr>\n",
       "      <th>27</th>\n",
       "      <td>2018-12-20</td>\n",
       "      <td>2018-12-19 17:00:00</td>\n",
       "      <td>12908</td>\n",
       "      <td>-11170</td>\n",
       "    </tr>\n",
       "    <tr>\n",
       "      <th>28</th>\n",
       "      <td>2018-12-20</td>\n",
       "      <td>2018-12-19 16:45:00</td>\n",
       "      <td>12931</td>\n",
       "      <td>-11147</td>\n",
       "    </tr>\n",
       "    <tr>\n",
       "      <th>29</th>\n",
       "      <td>2018-12-20</td>\n",
       "      <td>2018-12-19 16:30:00</td>\n",
       "      <td>12974</td>\n",
       "      <td>-11104</td>\n",
       "    </tr>\n",
       "    <tr>\n",
       "      <th>30</th>\n",
       "      <td>2018-12-20</td>\n",
       "      <td>2018-12-19 16:15:00</td>\n",
       "      <td>13010</td>\n",
       "      <td>-11068</td>\n",
       "    </tr>\n",
       "    <tr>\n",
       "      <th>31</th>\n",
       "      <td>2018-12-20</td>\n",
       "      <td>2018-12-19 16:00:00</td>\n",
       "      <td>13034</td>\n",
       "      <td>-11044</td>\n",
       "    </tr>\n",
       "    <tr>\n",
       "      <th>32</th>\n",
       "      <td>2018-12-20</td>\n",
       "      <td>2018-12-19 15:45:00</td>\n",
       "      <td>13124</td>\n",
       "      <td>-10954</td>\n",
       "    </tr>\n",
       "    <tr>\n",
       "      <th>33</th>\n",
       "      <td>2018-12-20</td>\n",
       "      <td>2018-12-19 15:30:00</td>\n",
       "      <td>13078</td>\n",
       "      <td>-11000</td>\n",
       "    </tr>\n",
       "    <tr>\n",
       "      <th>34</th>\n",
       "      <td>2018-12-20</td>\n",
       "      <td>2018-12-19 15:15:00</td>\n",
       "      <td>13156</td>\n",
       "      <td>-10922</td>\n",
       "    </tr>\n",
       "    <tr>\n",
       "      <th>35</th>\n",
       "      <td>2018-12-20</td>\n",
       "      <td>2018-12-19 15:00:00</td>\n",
       "      <td>13100</td>\n",
       "      <td>-10978</td>\n",
       "    </tr>\n",
       "    <tr>\n",
       "      <th>36</th>\n",
       "      <td>2018-12-20</td>\n",
       "      <td>2018-12-19 14:45:00</td>\n",
       "      <td>13102</td>\n",
       "      <td>-10976</td>\n",
       "    </tr>\n",
       "    <tr>\n",
       "      <th>37</th>\n",
       "      <td>2018-12-20</td>\n",
       "      <td>2018-12-19 14:30:00</td>\n",
       "      <td>13100</td>\n",
       "      <td>-10978</td>\n",
       "    </tr>\n",
       "    <tr>\n",
       "      <th>38</th>\n",
       "      <td>2018-12-20</td>\n",
       "      <td>2018-12-19 14:15:00</td>\n",
       "      <td>13099</td>\n",
       "      <td>-10979</td>\n",
       "    </tr>\n",
       "    <tr>\n",
       "      <th>39</th>\n",
       "      <td>2018-12-20</td>\n",
       "      <td>2018-12-19 14:00:00</td>\n",
       "      <td>13105</td>\n",
       "      <td>-10973</td>\n",
       "    </tr>\n",
       "    <tr>\n",
       "      <th>40</th>\n",
       "      <td>2018-12-20</td>\n",
       "      <td>2018-12-19 13:45:00</td>\n",
       "      <td>13111</td>\n",
       "      <td>-10967</td>\n",
       "    </tr>\n",
       "    <tr>\n",
       "      <th>41</th>\n",
       "      <td>2018-12-20</td>\n",
       "      <td>2018-12-19 13:30:00</td>\n",
       "      <td>13182</td>\n",
       "      <td>-10896</td>\n",
       "    </tr>\n",
       "    <tr>\n",
       "      <th>42</th>\n",
       "      <td>2018-12-20</td>\n",
       "      <td>2018-12-19 13:15:00</td>\n",
       "      <td>13124</td>\n",
       "      <td>-10954</td>\n",
       "    </tr>\n",
       "    <tr>\n",
       "      <th>43</th>\n",
       "      <td>2018-12-20</td>\n",
       "      <td>2018-12-19 13:00:00</td>\n",
       "      <td>13197</td>\n",
       "      <td>-10881</td>\n",
       "    </tr>\n",
       "    <tr>\n",
       "      <th>44</th>\n",
       "      <td>2018-12-20</td>\n",
       "      <td>2018-12-19 12:45:00</td>\n",
       "      <td>13194</td>\n",
       "      <td>-10884</td>\n",
       "    </tr>\n",
       "    <tr>\n",
       "      <th>45</th>\n",
       "      <td>2018-12-20</td>\n",
       "      <td>2018-12-19 12:30:00</td>\n",
       "      <td>13272</td>\n",
       "      <td>-10806</td>\n",
       "    </tr>\n",
       "    <tr>\n",
       "      <th>46</th>\n",
       "      <td>2018-12-20</td>\n",
       "      <td>2018-12-19 12:15:00</td>\n",
       "      <td>13249</td>\n",
       "      <td>-10829</td>\n",
       "    </tr>\n",
       "    <tr>\n",
       "      <th>47</th>\n",
       "      <td>2018-12-20</td>\n",
       "      <td>2018-12-19 12:00:00</td>\n",
       "      <td>13314</td>\n",
       "      <td>-10764</td>\n",
       "    </tr>\n",
       "    <tr>\n",
       "      <th>48</th>\n",
       "      <td>2018-12-20</td>\n",
       "      <td>2018-12-19 11:45:00</td>\n",
       "      <td>13322</td>\n",
       "      <td>-10756</td>\n",
       "    </tr>\n",
       "    <tr>\n",
       "      <th>49</th>\n",
       "      <td>2018-12-20</td>\n",
       "      <td>2018-12-19 11:30:00</td>\n",
       "      <td>13328</td>\n",
       "      <td>-10750</td>\n",
       "    </tr>\n",
       "  </tbody>\n",
       "</table>\n",
       "</div>"
      ],
      "text/plain": [
       "   delivery_start           timestamp  wind forecast in MW  ID Position\n",
       "0      2018-12-20 2018-12-20 00:00:00                12815       -11263\n",
       "1      2018-12-20 2018-12-19 23:45:00                12629       -11449\n",
       "2      2018-12-20 2018-12-19 23:30:00                12546       -11532\n",
       "3      2018-12-20 2018-12-19 23:15:00                12654       -11424\n",
       "4      2018-12-20 2018-12-19 23:00:00                12741       -11337\n",
       "5      2018-12-20 2018-12-19 22:45:00                12724       -11354\n",
       "6      2018-12-20 2018-12-19 22:30:00                12704       -11374\n",
       "7      2018-12-20 2018-12-19 22:15:00                12766       -11312\n",
       "8      2018-12-20 2018-12-19 22:00:00                12807       -11271\n",
       "9      2018-12-20 2018-12-19 21:45:00                12684       -11394\n",
       "10     2018-12-20 2018-12-19 21:30:00                12643       -11435\n",
       "11     2018-12-20 2018-12-19 21:15:00                12627       -11451\n",
       "12     2018-12-20 2018-12-19 21:00:00                12622       -11456\n",
       "13     2018-12-20 2018-12-19 20:30:00                12543       -11535\n",
       "14     2018-12-20 2018-12-19 20:15:00                12613       -11465\n",
       "15     2018-12-20 2018-12-19 20:00:00                12559       -11519\n",
       "16     2018-12-20 2018-12-19 19:45:00                12474       -11604\n",
       "17     2018-12-20 2018-12-19 19:30:00                12732       -11346\n",
       "18     2018-12-20 2018-12-19 19:15:00                12679       -11399\n",
       "19     2018-12-20 2018-12-19 19:00:00                12621       -11457\n",
       "20     2018-12-20 2018-12-19 18:45:00                12739       -11339\n",
       "21     2018-12-20 2018-12-19 18:30:00                12738       -11340\n",
       "22     2018-12-20 2018-12-19 18:15:00                12743       -11335\n",
       "23     2018-12-20 2018-12-19 18:00:00                12727       -11351\n",
       "24     2018-12-20 2018-12-19 17:45:00                12737       -11341\n",
       "25     2018-12-20 2018-12-19 17:30:00                12805       -11273\n",
       "26     2018-12-20 2018-12-19 17:15:00                12897       -11181\n",
       "27     2018-12-20 2018-12-19 17:00:00                12908       -11170\n",
       "28     2018-12-20 2018-12-19 16:45:00                12931       -11147\n",
       "29     2018-12-20 2018-12-19 16:30:00                12974       -11104\n",
       "30     2018-12-20 2018-12-19 16:15:00                13010       -11068\n",
       "31     2018-12-20 2018-12-19 16:00:00                13034       -11044\n",
       "32     2018-12-20 2018-12-19 15:45:00                13124       -10954\n",
       "33     2018-12-20 2018-12-19 15:30:00                13078       -11000\n",
       "34     2018-12-20 2018-12-19 15:15:00                13156       -10922\n",
       "35     2018-12-20 2018-12-19 15:00:00                13100       -10978\n",
       "36     2018-12-20 2018-12-19 14:45:00                13102       -10976\n",
       "37     2018-12-20 2018-12-19 14:30:00                13100       -10978\n",
       "38     2018-12-20 2018-12-19 14:15:00                13099       -10979\n",
       "39     2018-12-20 2018-12-19 14:00:00                13105       -10973\n",
       "40     2018-12-20 2018-12-19 13:45:00                13111       -10967\n",
       "41     2018-12-20 2018-12-19 13:30:00                13182       -10896\n",
       "42     2018-12-20 2018-12-19 13:15:00                13124       -10954\n",
       "43     2018-12-20 2018-12-19 13:00:00                13197       -10881\n",
       "44     2018-12-20 2018-12-19 12:45:00                13194       -10884\n",
       "45     2018-12-20 2018-12-19 12:30:00                13272       -10806\n",
       "46     2018-12-20 2018-12-19 12:15:00                13249       -10829\n",
       "47     2018-12-20 2018-12-19 12:00:00                13314       -10764\n",
       "48     2018-12-20 2018-12-19 11:45:00                13322       -10756\n",
       "49     2018-12-20 2018-12-19 11:30:00                13328       -10750"
      ]
     },
     "execution_count": 52,
     "metadata": {},
     "output_type": "execute_result"
    }
   ],
   "source": [
    "df.head(50)"
   ]
  },
  {
   "cell_type": "code",
   "execution_count": 432,
   "id": "fd7d7eab",
   "metadata": {},
   "outputs": [
    {
     "data": {
      "text/html": [
       "<div>\n",
       "<style scoped>\n",
       "    .dataframe tbody tr th:only-of-type {\n",
       "        vertical-align: middle;\n",
       "    }\n",
       "\n",
       "    .dataframe tbody tr th {\n",
       "        vertical-align: top;\n",
       "    }\n",
       "\n",
       "    .dataframe thead th {\n",
       "        text-align: right;\n",
       "    }\n",
       "</style>\n",
       "<table border=\"1\" class=\"dataframe\">\n",
       "  <thead>\n",
       "    <tr style=\"text-align: right;\">\n",
       "      <th></th>\n",
       "      <th>delivery_start</th>\n",
       "      <th>timestamp</th>\n",
       "      <th>wind forecast in MW</th>\n",
       "      <th>ID Position</th>\n",
       "    </tr>\n",
       "  </thead>\n",
       "  <tbody>\n",
       "    <tr>\n",
       "      <th>0</th>\n",
       "      <td>2018-12-20</td>\n",
       "      <td>2018-12-20 00:00:00</td>\n",
       "      <td>12815</td>\n",
       "      <td>-11263</td>\n",
       "    </tr>\n",
       "    <tr>\n",
       "      <th>1</th>\n",
       "      <td>2018-12-20</td>\n",
       "      <td>2018-12-19 23:45:00</td>\n",
       "      <td>12629</td>\n",
       "      <td>-11449</td>\n",
       "    </tr>\n",
       "    <tr>\n",
       "      <th>2</th>\n",
       "      <td>2018-12-20</td>\n",
       "      <td>2018-12-19 23:30:00</td>\n",
       "      <td>12546</td>\n",
       "      <td>-11532</td>\n",
       "    </tr>\n",
       "    <tr>\n",
       "      <th>3</th>\n",
       "      <td>2018-12-20</td>\n",
       "      <td>2018-12-19 23:15:00</td>\n",
       "      <td>12654</td>\n",
       "      <td>-11424</td>\n",
       "    </tr>\n",
       "    <tr>\n",
       "      <th>4</th>\n",
       "      <td>2018-12-20</td>\n",
       "      <td>2018-12-19 23:00:00</td>\n",
       "      <td>12741</td>\n",
       "      <td>-11337</td>\n",
       "    </tr>\n",
       "    <tr>\n",
       "      <th>...</th>\n",
       "      <td>...</td>\n",
       "      <td>...</td>\n",
       "      <td>...</td>\n",
       "      <td>...</td>\n",
       "    </tr>\n",
       "    <tr>\n",
       "      <th>368206</th>\n",
       "      <td>2018-12-25</td>\n",
       "      <td>2018-12-24 12:30:00</td>\n",
       "      <td>18217</td>\n",
       "      <td>-242</td>\n",
       "    </tr>\n",
       "    <tr>\n",
       "      <th>368207</th>\n",
       "      <td>2018-12-25</td>\n",
       "      <td>2018-12-24 12:15:00</td>\n",
       "      <td>18269</td>\n",
       "      <td>-190</td>\n",
       "    </tr>\n",
       "    <tr>\n",
       "      <th>368208</th>\n",
       "      <td>2018-12-25</td>\n",
       "      <td>2018-12-24 12:00:00</td>\n",
       "      <td>18382</td>\n",
       "      <td>-77</td>\n",
       "    </tr>\n",
       "    <tr>\n",
       "      <th>368209</th>\n",
       "      <td>2018-12-25</td>\n",
       "      <td>2018-12-24 11:45:00</td>\n",
       "      <td>18458</td>\n",
       "      <td>-1</td>\n",
       "    </tr>\n",
       "    <tr>\n",
       "      <th>368210</th>\n",
       "      <td>2018-12-25</td>\n",
       "      <td>2018-12-24 11:30:00</td>\n",
       "      <td>18459</td>\n",
       "      <td>0</td>\n",
       "    </tr>\n",
       "  </tbody>\n",
       "</table>\n",
       "<p>47235 rows × 4 columns</p>\n",
       "</div>"
      ],
      "text/plain": [
       "       delivery_start           timestamp  wind forecast in MW  ID Position\n",
       "0          2018-12-20 2018-12-20 00:00:00                12815       -11263\n",
       "1          2018-12-20 2018-12-19 23:45:00                12629       -11449\n",
       "2          2018-12-20 2018-12-19 23:30:00                12546       -11532\n",
       "3          2018-12-20 2018-12-19 23:15:00                12654       -11424\n",
       "4          2018-12-20 2018-12-19 23:00:00                12741       -11337\n",
       "...               ...                 ...                  ...          ...\n",
       "368206     2018-12-25 2018-12-24 12:30:00                18217         -242\n",
       "368207     2018-12-25 2018-12-24 12:15:00                18269         -190\n",
       "368208     2018-12-25 2018-12-24 12:00:00                18382          -77\n",
       "368209     2018-12-25 2018-12-24 11:45:00                18458           -1\n",
       "368210     2018-12-25 2018-12-24 11:30:00                18459            0\n",
       "\n",
       "[47235 rows x 4 columns]"
      ]
     },
     "execution_count": 432,
     "metadata": {},
     "output_type": "execute_result"
    }
   ],
   "source": [
    "df"
   ]
  },
  {
   "cell_type": "code",
   "execution_count": 433,
   "id": "198eb725",
   "metadata": {},
   "outputs": [],
   "source": [
    "df.to_csv(\"./newdata.csv\")"
   ]
  },
  {
   "cell_type": "code",
   "execution_count": 2,
   "id": "c6743b2d",
   "metadata": {},
   "outputs": [],
   "source": [
    "def change(x,y): \n",
    "    print(\"no\")"
   ]
  },
  {
   "cell_type": "code",
   "execution_count": 3,
   "id": "18bb1b34",
   "metadata": {},
   "outputs": [
    {
     "name": "stdout",
     "output_type": "stream",
     "text": [
      "row\n"
     ]
    }
   ],
   "source": [
    "print(\"row\")"
   ]
  },
  {
   "cell_type": "code",
   "execution_count": 77,
   "id": "9a942782",
   "metadata": {},
   "outputs": [],
   "source": [
    "def con(x,y,z):  #conv function adds wind power forecast at 11:30 for every delivery date\n",
    "    if x.time() == ex.time() and x.date != y.date():   \n",
    "        empty_dict[str(y.time())] = my_List.append((z,str(x.date()),str(x.time())))  "
   ]
  },
  {
   "cell_type": "code",
   "execution_count": 78,
   "id": "ffaee59f",
   "metadata": {},
   "outputs": [
    {
     "data": {
      "text/plain": [
       "0         None\n",
       "1         None\n",
       "2         None\n",
       "3         None\n",
       "4         None\n",
       "          ... \n",
       "368206    None\n",
       "368207    None\n",
       "368208    None\n",
       "368209    None\n",
       "368210    None\n",
       "Length: 47235, dtype: object"
      ]
     },
     "execution_count": 78,
     "metadata": {},
     "output_type": "execute_result"
    }
   ],
   "source": [
    "df.apply(lambda x: con(x['timestamp'],x['delivery_start'],x['wind forecast in MW']), axis=1)"
   ]
  },
  {
   "cell_type": "code",
   "execution_count": 79,
   "id": "e8b5eb2d",
   "metadata": {},
   "outputs": [
    {
     "name": "stdout",
     "output_type": "stream",
     "text": [
      "{'00:00:00': (18459, '2018-12-24', '11:30:00'), '00:15:00': (12279, '2018-12-23', '11:30:00'), '00:30:00': (12467, '2018-12-23', '11:30:00'), '00:45:00': (12641, '2018-12-23', '11:30:00'), '01:00:00': (12818, '2018-12-23', '11:30:00'), '01:15:00': (12848, '2018-12-23', '11:30:00'), '01:30:00': (12875, '2018-12-23', '11:30:00'), '01:45:00': (12903, '2018-12-23', '11:30:00'), '02:00:00': (13154, '2018-12-23', '11:30:00'), '02:15:00': (13241, '2018-12-23', '11:30:00'), '02:30:00': (13325, '2018-12-23', '11:30:00'), '02:45:00': (13397, '2018-12-23', '11:30:00'), '03:00:00': (13462, '2018-12-23', '11:30:00'), '03:15:00': (13605, '2018-12-23', '11:30:00'), '03:30:00': (13752, '2018-12-23', '11:30:00'), '03:45:00': (13897, '2018-12-23', '11:30:00'), '04:00:00': (14034, '2018-12-23', '11:30:00'), '04:15:00': (14040, '2018-12-23', '11:30:00'), '04:30:00': (14049, '2018-12-23', '11:30:00'), '04:45:00': (14051, '2018-12-23', '11:30:00'), '05:00:00': (14058, '2018-12-23', '11:30:00'), '05:15:00': (13963, '2018-12-23', '11:30:00'), '05:30:00': (13866, '2018-12-23', '11:30:00'), '05:45:00': (13745, '2018-12-23', '11:30:00'), '06:00:00': (13765, '2018-12-23', '11:30:00'), '06:15:00': (13596, '2018-12-23', '11:30:00'), '06:30:00': (13425, '2018-12-23', '11:30:00'), '06:45:00': (13260, '2018-12-23', '11:30:00'), '07:00:00': (13100, '2018-12-23', '11:30:00'), '07:15:00': (12863, '2018-12-23', '11:30:00'), '07:30:00': (12619, '2018-12-23', '11:30:00'), '07:45:00': (12364, '2018-12-23', '11:30:00'), '08:00:00': (12104, '2018-12-23', '11:30:00'), '08:15:00': (11823, '2018-12-23', '11:30:00'), '08:30:00': (11545, '2018-12-23', '11:30:00'), '08:45:00': (11288, '2018-12-23', '11:30:00'), '09:00:00': (11028, '2018-12-23', '11:30:00'), '09:15:00': (10828, '2018-12-23', '11:30:00'), '09:30:00': (10616, '2018-12-23', '11:30:00'), '09:45:00': (10400, '2018-12-23', '11:30:00'), '10:00:00': (10182, '2018-12-23', '11:30:00'), '10:15:00': (10173, '2018-12-23', '11:30:00'), '10:30:00': (10166, '2018-12-23', '11:30:00'), '10:45:00': (10168, '2018-12-23', '11:30:00'), '11:00:00': (10173, '2018-12-23', '11:30:00'), '11:15:00': (10242, '2018-12-23', '11:30:00'), '11:30:00': (10313, '2018-12-23', '11:30:00'), '11:45:00': (10384, '2018-12-23', '11:30:00'), '12:00:00': (10451, '2018-12-23', '11:30:00'), '12:15:00': (10532, '2018-12-23', '11:30:00'), '12:30:00': (10611, '2018-12-23', '11:30:00'), '12:45:00': (10700, '2018-12-23', '11:30:00'), '13:00:00': (10788, '2018-12-23', '11:30:00'), '13:15:00': (10803, '2018-12-23', '11:30:00'), '13:30:00': (10822, '2018-12-23', '11:30:00'), '13:45:00': (10839, '2018-12-23', '11:30:00'), '14:00:00': (10851, '2018-12-23', '11:30:00'), '14:15:00': (10846, '2018-12-23', '11:30:00'), '14:30:00': (10839, '2018-12-23', '11:30:00'), '14:45:00': (10827, '2018-12-23', '11:30:00'), '15:00:00': (10816, '2018-12-23', '11:30:00'), '15:15:00': (10893, '2018-12-23', '11:30:00'), '15:30:00': (10958, '2018-12-23', '11:30:00'), '15:45:00': (11024, '2018-12-23', '11:30:00'), '16:00:00': (11087, '2018-12-23', '11:30:00'), '16:15:00': (11291, '2018-12-23', '11:30:00'), '16:30:00': (11507, '2018-12-23', '11:30:00'), '16:45:00': (11739, '2018-12-23', '11:30:00'), '17:00:00': (11932, '2018-12-23', '11:30:00'), '17:15:00': (12175, '2018-12-23', '11:30:00'), '17:30:00': (12420, '2018-12-23', '11:30:00'), '17:45:00': (12674, '2018-12-23', '11:30:00'), '18:00:00': (12931, '2018-12-23', '11:30:00'), '18:15:00': (13173, '2018-12-23', '11:30:00'), '18:30:00': (13422, '2018-12-23', '11:30:00'), '18:45:00': (13677, '2018-12-23', '11:30:00'), '19:00:00': (13929, '2018-12-23', '11:30:00'), '19:15:00': (14145, '2018-12-23', '11:30:00'), '19:30:00': (14359, '2018-12-23', '11:30:00'), '19:45:00': (14548, '2018-12-23', '11:30:00'), '20:00:00': (14740, '2018-12-23', '11:30:00'), '20:15:00': (14971, '2018-12-23', '11:30:00'), '20:30:00': (15199, '2018-12-23', '11:30:00'), '20:45:00': (15423, '2018-12-23', '11:30:00'), '21:00:00': (15644, '2018-12-23', '11:30:00'), '21:15:00': (15885, '2018-12-23', '11:30:00'), '21:30:00': (16124, '2018-12-23', '11:30:00'), '21:45:00': (16369, '2018-12-23', '11:30:00'), '22:00:00': (16424, '2018-12-23', '11:30:00'), '22:15:00': (16615, '2018-12-23', '11:30:00'), '22:30:00': (16798, '2018-12-23', '11:30:00'), '22:45:00': (16967, '2018-12-23', '11:30:00'), '23:00:00': (17138, '2018-12-23', '11:30:00'), '23:15:00': (17300, '2018-12-23', '11:30:00'), '23:30:00': (17466, '2018-12-23', '11:30:00'), '23:45:00': (17634, '2018-12-23', '11:30:00')}\n"
     ]
    }
   ],
   "source": [
    "print(empty_dict)\n",
    "                                        "
   ]
  },
  {
   "cell_type": "code",
   "execution_count": 80,
   "id": "f1bc16f2",
   "metadata": {},
   "outputs": [
    {
     "data": {
      "text/html": [
       "<div>\n",
       "<style scoped>\n",
       "    .dataframe tbody tr th:only-of-type {\n",
       "        vertical-align: middle;\n",
       "    }\n",
       "\n",
       "    .dataframe tbody tr th {\n",
       "        vertical-align: top;\n",
       "    }\n",
       "\n",
       "    .dataframe thead th {\n",
       "        text-align: right;\n",
       "    }\n",
       "</style>\n",
       "<table border=\"1\" class=\"dataframe\">\n",
       "  <thead>\n",
       "    <tr style=\"text-align: right;\">\n",
       "      <th></th>\n",
       "      <th>delivery_start</th>\n",
       "      <th>timestamp</th>\n",
       "      <th>wind forecast in MW</th>\n",
       "      <th>ID Position</th>\n",
       "    </tr>\n",
       "  </thead>\n",
       "  <tbody>\n",
       "    <tr>\n",
       "      <th>368206</th>\n",
       "      <td>2018-12-25</td>\n",
       "      <td>2018-12-24 12:30:00</td>\n",
       "      <td>18217</td>\n",
       "      <td>-242</td>\n",
       "    </tr>\n",
       "    <tr>\n",
       "      <th>368207</th>\n",
       "      <td>2018-12-25</td>\n",
       "      <td>2018-12-24 12:15:00</td>\n",
       "      <td>18269</td>\n",
       "      <td>-190</td>\n",
       "    </tr>\n",
       "    <tr>\n",
       "      <th>368208</th>\n",
       "      <td>2018-12-25</td>\n",
       "      <td>2018-12-24 12:00:00</td>\n",
       "      <td>18382</td>\n",
       "      <td>-77</td>\n",
       "    </tr>\n",
       "    <tr>\n",
       "      <th>368209</th>\n",
       "      <td>2018-12-25</td>\n",
       "      <td>2018-12-24 11:45:00</td>\n",
       "      <td>18458</td>\n",
       "      <td>-1</td>\n",
       "    </tr>\n",
       "    <tr>\n",
       "      <th>368210</th>\n",
       "      <td>2018-12-25</td>\n",
       "      <td>2018-12-24 11:30:00</td>\n",
       "      <td>18459</td>\n",
       "      <td>0</td>\n",
       "    </tr>\n",
       "  </tbody>\n",
       "</table>\n",
       "</div>"
      ],
      "text/plain": [
       "       delivery_start           timestamp  wind forecast in MW  ID Position\n",
       "368206     2018-12-25 2018-12-24 12:30:00                18217         -242\n",
       "368207     2018-12-25 2018-12-24 12:15:00                18269         -190\n",
       "368208     2018-12-25 2018-12-24 12:00:00                18382          -77\n",
       "368209     2018-12-25 2018-12-24 11:45:00                18458           -1\n",
       "368210     2018-12-25 2018-12-24 11:30:00                18459            0"
      ]
     },
     "execution_count": 80,
     "metadata": {},
     "output_type": "execute_result"
    }
   ],
   "source": [
    "df.tail()"
   ]
  },
  {
   "cell_type": "code",
   "execution_count": null,
   "id": "1dc25298",
   "metadata": {},
   "outputs": [],
   "source": []
  }
 ],
 "metadata": {
  "kernelspec": {
   "display_name": "Python 3 (ipykernel)",
   "language": "python",
   "name": "python3"
  },
  "language_info": {
   "codemirror_mode": {
    "name": "ipython",
    "version": 3
   },
   "file_extension": ".py",
   "mimetype": "text/x-python",
   "name": "python",
   "nbconvert_exporter": "python",
   "pygments_lexer": "ipython3",
   "version": "3.8.2"
  }
 },
 "nbformat": 4,
 "nbformat_minor": 5
}
